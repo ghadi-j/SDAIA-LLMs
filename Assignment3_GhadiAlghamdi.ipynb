{
  "cells": [
    {
      "cell_type": "markdown",
      "metadata": {
        "id": "sxquFBDorNn2"
      },
      "source": [
        "# Handwritten Digit Classification\n",
        "\n",
        "\n",
        "For this Hands-on, we will use the popular scikit-learn library to build a basic classifier. The MNIST dataset contains images of handwritten digits, and the task is to classify each image into its corresponding digit (0 to 9)."
      ]
    },
    {
      "cell_type": "markdown",
      "metadata": {
        "id": "LFjb1WbUtzcT"
      },
      "source": [
        "## Import Libraries"
      ]
    },
    {
      "cell_type": "code",
      "execution_count": 1,
      "metadata": {
        "id": "vZuJJeZBt1NX"
      },
      "outputs": [],
      "source": [
        "# Import required libraries\n",
        "import numpy as np\n",
        "import matplotlib.pyplot as plt\n",
        "from keras.datasets import mnist\n",
        "from keras.models import Sequential\n",
        "from keras.layers import Conv2D, MaxPooling2D, Flatten, Dense\n",
        "from keras.utils import to_categorical\n",
        "from sklearn.model_selection import train_test_split"
      ]
    },
    {
      "cell_type": "markdown",
      "metadata": {
        "id": "izR8JS-irUfe"
      },
      "source": [
        "## Load the Dataset"
      ]
    },
    {
      "cell_type": "markdown",
      "source": [
        "**Question 1:** Load the train and test subsets of the mnist dataset from Keras"
      ],
      "metadata": {
        "id": "ksDVyrnEaqY9"
      }
    },
    {
      "cell_type": "code",
      "execution_count": 2,
      "metadata": {
        "id": "tPZGpMact7Hh",
        "colab": {
          "base_uri": "https://localhost:8080/"
        },
        "outputId": "f0c26c44-7b2d-4b4f-afef-3f6087529230"
      },
      "outputs": [
        {
          "output_type": "stream",
          "name": "stdout",
          "text": [
            "Downloading data from https://storage.googleapis.com/tensorflow/tf-keras-datasets/mnist.npz\n",
            "11490434/11490434 [==============================] - 0s 0us/step\n"
          ]
        }
      ],
      "source": [
        "import tensorflow as tf\n",
        "\n",
        "# Load the MNIST dataset\n",
        "#a: after \"=\"\n",
        "(X_train, y_train), (X_test, y_test) = tf.keras.datasets.mnist .load_data()\n",
        "\n"
      ]
    },
    {
      "cell_type": "markdown",
      "metadata": {
        "id": "1hRAaUS5uBa5"
      },
      "source": [
        "## Data Pre-Processing"
      ]
    },
    {
      "cell_type": "markdown",
      "source": [
        "**Question 2:**  \n",
        "\n",
        "*   Adjust the input shape to match the one the model is expecting\n",
        "*   Normalize the values of the pixels\n",
        "*   Turn labels into categories using the to_categorical function"
      ],
      "metadata": {
        "id": "pk-ekR4Wa1AD"
      }
    },
    {
      "cell_type": "code",
      "execution_count": 3,
      "metadata": {
        "id": "6PlFzdt2uAOc"
      },
      "outputs": [],
      "source": [
        "# Preprocess the data\n",
        "\n",
        "#a:\n",
        "\n",
        "X_train = X_train.reshape(-1, 28, 28,1) / 255.0\n",
        "X_test = X_test.reshape(-1, 28, 28, 1) / 255.0\n",
        "X_train , X_test = np.array(X_train) , np.array(X_test)\n",
        "\n",
        "y_train = to_categorical(y_train , num_classes=10)\n",
        "y_test = to_categorical(y_test , num_classes= 10)\n",
        "\n"
      ]
    },
    {
      "cell_type": "markdown",
      "metadata": {
        "id": "C2P2NYGAu3uf"
      },
      "source": [
        "## Build and train a CNN"
      ]
    },
    {
      "cell_type": "markdown",
      "source": [
        "**Question 3:** Create a Convolutional neural Network of your choice and be carefyl while you select the following:\n",
        "\n",
        "\n",
        "*   input shape\n",
        "*   activation function at the output layer\n",
        "*   number of output neurons\n",
        "\n"
      ],
      "metadata": {
        "id": "gBh_E3p8yQJd"
      }
    },
    {
      "cell_type": "code",
      "execution_count": 4,
      "metadata": {
        "id": "cSKyObX3u6b5"
      },
      "outputs": [],
      "source": [
        "\n",
        "import matplotlib.pyplot as plt\n",
        "\n",
        "from keras.models import Sequential\n",
        "from keras.layers import Conv2D, MaxPooling2D, Flatten, Dense\n",
        "\n",
        "\n",
        "\n",
        "# Build the CNN model\n",
        "model = Sequential()\n",
        "\n",
        "#a:\n",
        "\n",
        "model.add(Conv2D(32 , (3 , 3) , activation='relu' , input_shape = (28 , 28 , 1)))\n",
        "model.add(MaxPooling2D((2 , 2)))\n",
        "model.add(Conv2D(64 , (3 , 3) , activation='relu'))\n",
        "model.add(MaxPooling2D((2 , 2)))\n",
        "model.add(Flatten())\n",
        "model.add(Dense(128 ,  activation='relu'))\n",
        "model.add(Dense(10 ,  activation='softmax'))\n"
      ]
    },
    {
      "cell_type": "markdown",
      "source": [
        "**Question 4:** Compile and train the model. Choose an appropriate loss function, optimizer, and print out the accuracy of the model."
      ],
      "metadata": {
        "id": "Z37o5R4zyrRB"
      }
    },
    {
      "cell_type": "code",
      "source": [
        "# Compile the model\n",
        "\n",
        "#a:\n",
        "model.compile(optimizer='adam' , loss='categorical_crossentropy' , metrics=['accuracy'])\n",
        "\n",
        "# Train the model\n",
        "\n",
        "#a:\n",
        "history= model.fit(X_train, y_train, batch_size=128, epochs=10, validation_split=0.2)\n"
      ],
      "metadata": {
        "id": "EsBT-jSlyo35",
        "colab": {
          "base_uri": "https://localhost:8080/"
        },
        "outputId": "01feb3c0-15c5-4a7d-c795-11b38bb8b235"
      },
      "execution_count": 5,
      "outputs": [
        {
          "output_type": "stream",
          "name": "stdout",
          "text": [
            "Epoch 1/10\n",
            "375/375 [==============================] - 47s 119ms/step - loss: 0.2531 - accuracy: 0.9234 - val_loss: 0.0867 - val_accuracy: 0.9733\n",
            "Epoch 2/10\n",
            "375/375 [==============================] - 37s 98ms/step - loss: 0.0678 - accuracy: 0.9788 - val_loss: 0.0601 - val_accuracy: 0.9818\n",
            "Epoch 3/10\n",
            "375/375 [==============================] - 37s 99ms/step - loss: 0.0486 - accuracy: 0.9852 - val_loss: 0.0561 - val_accuracy: 0.9835\n",
            "Epoch 4/10\n",
            "375/375 [==============================] - 37s 97ms/step - loss: 0.0377 - accuracy: 0.9886 - val_loss: 0.0456 - val_accuracy: 0.9868\n",
            "Epoch 5/10\n",
            "375/375 [==============================] - 37s 98ms/step - loss: 0.0313 - accuracy: 0.9901 - val_loss: 0.0468 - val_accuracy: 0.9870\n",
            "Epoch 6/10\n",
            "375/375 [==============================] - 36s 96ms/step - loss: 0.0246 - accuracy: 0.9921 - val_loss: 0.0387 - val_accuracy: 0.9880\n",
            "Epoch 7/10\n",
            "375/375 [==============================] - 36s 95ms/step - loss: 0.0181 - accuracy: 0.9941 - val_loss: 0.0421 - val_accuracy: 0.9882\n",
            "Epoch 8/10\n",
            "375/375 [==============================] - 38s 101ms/step - loss: 0.0158 - accuracy: 0.9950 - val_loss: 0.0410 - val_accuracy: 0.9875\n",
            "Epoch 9/10\n",
            "375/375 [==============================] - 35s 94ms/step - loss: 0.0130 - accuracy: 0.9958 - val_loss: 0.0385 - val_accuracy: 0.9885\n",
            "Epoch 10/10\n",
            "375/375 [==============================] - 36s 95ms/step - loss: 0.0119 - accuracy: 0.9958 - val_loss: 0.0401 - val_accuracy: 0.9893\n"
          ]
        }
      ]
    },
    {
      "cell_type": "markdown",
      "metadata": {
        "id": "LaYsKjVSu9KF"
      },
      "source": [
        "## Evaluate the Model's performance"
      ]
    },
    {
      "cell_type": "markdown",
      "source": [
        "**Question 5:** Plot the training and validation accuracy to better understand the performance of the model."
      ],
      "metadata": {
        "id": "57_7ykVky_j_"
      }
    },
    {
      "cell_type": "code",
      "execution_count": 6,
      "metadata": {
        "id": "-KqzKudQu8rv",
        "colab": {
          "base_uri": "https://localhost:8080/",
          "height": 484
        },
        "outputId": "20860a2a-0663-4dd5-a6fe-3223d8033c06"
      },
      "outputs": [
        {
          "output_type": "stream",
          "name": "stdout",
          "text": [
            "313/313 [==============================] - 2s 7ms/step - loss: 0.0287 - accuracy: 0.9905\n",
            "Test Accuracy: 0.9904999732971191\n"
          ]
        },
        {
          "output_type": "display_data",
          "data": {
            "text/plain": [
              "<Figure size 640x480 with 1 Axes>"
            ],
            "image/png": "[encoded data removed]"
          },
          "metadata": {}
        }
      ],
      "source": [
        "# Evaluate the model on the test set\n",
        "test_loss, test_accuracy = model.evaluate(X_test, y_test)\n",
        "print(\"Test Accuracy:\", test_accuracy)\n",
        "\n",
        "# Plot the training and validation accuracy over epochs\n",
        "\n",
        "#a:\n",
        "plt.plot(history.history['accuracy'] , label = 'Training Accuracy')\n",
        "plt.plot(history.history['val_accuracy'] , label = 'Validation Accuracy')\n",
        "#\n",
        "\n",
        "\n",
        "plt.xlabel('Epoch')\n",
        "plt.ylabel('Accuracy')\n",
        "plt.legend()\n",
        "plt.show()\n"
      ]
    }
  ],
  "metadata": {
    "colab": {
      "provenance": []
    },
    "kernelspec": {
      "display_name": "Python 3",
      "name": "python3"
    },
    "language_info": {
      "name": "python"
    }
  },
  "nbformat": 4,
  "nbformat_minor": 0
}